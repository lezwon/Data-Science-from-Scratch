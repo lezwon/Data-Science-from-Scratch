{
  "nbformat": 4,
  "nbformat_minor": 0,
  "metadata": {
    "colab": {
      "name": "chapter_5_statistics.ipynb",
      "provenance": [],
      "collapsed_sections": [],
      "include_colab_link": true
    },
    "kernelspec": {
      "name": "swift",
      "display_name": "Swift"
    }
  },
  "cells": [
    {
      "cell_type": "markdown",
      "metadata": {
        "id": "view-in-github",
        "colab_type": "text"
      },
      "source": [
        "<a href=\"https://colab.research.google.com/github/lezwon/Data-Science-from-Scratch/blob/master/chapter_5_statistics.ipynb\" target=\"_parent\"><img src=\"https://colab.research.google.com/assets/colab-badge.svg\" alt=\"Open In Colab\"/></a>"
      ]
    },
    {
      "cell_type": "code",
      "metadata": {
        "id": "kZRlD4utdPuX",
        "colab_type": "code",
        "colab": {}
      },
      "source": [
        "typealias Vector = Array<Float>"
      ],
      "execution_count": 0,
      "outputs": []
    },
    {
      "cell_type": "code",
      "metadata": {
        "id": "WHSvFqwqsBKw",
        "colab_type": "code",
        "colab": {}
      },
      "source": [
        "extension Vector {\n",
        "    func sum()->Float{\n",
        "      return self.reduce(0, +)\n",
        "    }\n",
        "\n",
        "    func mean()->Float{\n",
        "      return self.sum() / Float(self.count)\n",
        "    }\n",
        "}"
      ],
      "execution_count": 0,
      "outputs": []
    },
    {
      "cell_type": "code",
      "metadata": {
        "id": "T-YvBM4pY7sD",
        "colab_type": "code",
        "colab": {}
      },
      "source": [
        "func dot(_ v: Vector, _ w: Vector) -> Float {\n",
        "  assert(v.count == w.count, \"Vector lengths do not match.\")\n",
        "  return zip(v, w).map({ $0 * $1 }).reduce(0, +)\n",
        "}"
      ],
      "execution_count": 0,
      "outputs": []
    },
    {
      "cell_type": "code",
      "metadata": {
        "id": "aybqCD_Vu9-H",
        "colab_type": "code",
        "colab": {}
      },
      "source": [
        "typealias Matrix = Array<Vector>"
      ],
      "execution_count": 0,
      "outputs": []
    },
    {
      "cell_type": "code",
      "metadata": {
        "id": "E3AaGmF0spok",
        "colab_type": "code",
        "colab": {}
      },
      "source": [
        "extension Matrix {\n",
        "  func shape() -> (Int, Int){\n",
        "    return (self.count, self.first?.count ?? 0)\n",
        "  }\n",
        "\n",
        "  func get_row(_ i: Int) -> Vector {\n",
        "    return self[i]\n",
        "  }\n",
        "\n",
        "  func get_column(_ j: Int) -> Vector {\n",
        "    return self.map({ $0[j] })\n",
        "  }\n",
        "}"
      ],
      "execution_count": 0,
      "outputs": []
    },
    {
      "cell_type": "code",
      "metadata": {
        "id": "pDE2kMXTs5OA",
        "colab_type": "code",
        "colab": {}
      },
      "source": [
        "let m: Matrix = [[1, 2, 3], [4, 5, 6], [7, 8, 9]]"
      ],
      "execution_count": 0,
      "outputs": []
    },
    {
      "cell_type": "code",
      "metadata": {
        "id": "JFXBTYxhtH6N",
        "colab_type": "code",
        "outputId": "33994838-be3b-4994-ddef-02c3d55e2048",
        "colab": {
          "base_uri": "https://localhost:8080/",
          "height": 69
        }
      },
      "source": [
        "m.shape()"
      ],
      "execution_count": 7,
      "outputs": [
        {
          "output_type": "execute_result",
          "data": {
            "text/plain": [
              "▿ 2 elements\n",
              "  - .0 : 3\n",
              "  - .1 : 3\n"
            ]
          },
          "metadata": {
            "tags": []
          },
          "execution_count": 7
        }
      ]
    },
    {
      "cell_type": "code",
      "metadata": {
        "id": "xDSJs99xtvSi",
        "colab_type": "code",
        "outputId": "0ab8bd7a-653d-40ae-f59c-e2b4c791079e",
        "colab": {
          "base_uri": "https://localhost:8080/",
          "height": 86
        }
      },
      "source": [
        "m.get_row(1)"
      ],
      "execution_count": 8,
      "outputs": [
        {
          "output_type": "execute_result",
          "data": {
            "text/plain": [
              "▿ 3 elements\n",
              "  - 0 : 4.0\n",
              "  - 1 : 5.0\n",
              "  - 2 : 6.0\n"
            ]
          },
          "metadata": {
            "tags": []
          },
          "execution_count": 8
        }
      ]
    },
    {
      "cell_type": "code",
      "metadata": {
        "id": "E-N6TA-_uNSj",
        "colab_type": "code",
        "outputId": "09a5df11-ed1b-4332-8312-8d9ae2003800",
        "colab": {
          "base_uri": "https://localhost:8080/",
          "height": 35
        }
      },
      "source": [
        "m.get_row(1).mean()"
      ],
      "execution_count": 9,
      "outputs": [
        {
          "output_type": "execute_result",
          "data": {
            "text/plain": [
              "5.0\n"
            ]
          },
          "metadata": {
            "tags": []
          },
          "execution_count": 9
        }
      ]
    },
    {
      "cell_type": "code",
      "metadata": {
        "id": "r-mfHpxitxsK",
        "colab_type": "code",
        "outputId": "e461c44e-d97c-443e-bcfd-896ce86cbb0b",
        "colab": {
          "base_uri": "https://localhost:8080/",
          "height": 86
        }
      },
      "source": [
        "m.get_column(1)"
      ],
      "execution_count": 10,
      "outputs": [
        {
          "output_type": "execute_result",
          "data": {
            "text/plain": [
              "▿ 3 elements\n",
              "  - 0 : 2.0\n",
              "  - 1 : 5.0\n",
              "  - 2 : 8.0\n"
            ]
          },
          "metadata": {
            "tags": []
          },
          "execution_count": 10
        }
      ]
    },
    {
      "cell_type": "code",
      "metadata": {
        "id": "VAApweuWVb2w",
        "colab_type": "code",
        "colab": {}
      },
      "source": [
        "func create_matrix(_ i: Int,_ j: Int,_ entry_fn: (Int, Int) -> Float) -> Matrix{\n",
        "  return (0..<i).map{ (a) in\n",
        "    (0..<j).map{ (b) in\n",
        "      entry_fn(a, b)\n",
        "    }\n",
        "  }\n",
        "}"
      ],
      "execution_count": 0,
      "outputs": []
    },
    {
      "cell_type": "code",
      "metadata": {
        "id": "Rwy4Rj93cGAn",
        "colab_type": "code",
        "colab": {}
      },
      "source": [
        "var median_array: Vector = [ 2, 4, 6, 1, 7, 9, 4 ]"
      ],
      "execution_count": 0,
      "outputs": []
    },
    {
      "cell_type": "code",
      "metadata": {
        "id": "t_JFE65LvjCg",
        "colab_type": "code",
        "colab": {}
      },
      "source": [
        "extension Vector {\n",
        "  func median_odd() -> Float {\n",
        "    return self.sorted()[self.count / 2]\n",
        "  }\n",
        "\n",
        "  func median_even() -> Float {\n",
        "    let mid_pt = self.count / 2\n",
        "    let sorted_array = self.sorted()\n",
        "    return (sorted_array[mid_pt - 1] + sorted_array[mid_pt]) / 2\n",
        "  }\n",
        "\n",
        "  func median() -> Float {\n",
        "    if self.count % 2 == 0 {\n",
        "      return median_even()\n",
        "    } \n",
        "    else {\n",
        "      return median_odd()\n",
        "    }\n",
        "  }\n",
        "\n",
        "  func quantile(_ p: Float) -> Float {\n",
        "    let i = Int(Float(self.count) * p)\n",
        "    return self.sorted()[i]\n",
        "  }\n",
        "\n",
        "  func mode() -> Vector {\n",
        "    var counter: [Float: Int] = [:]\n",
        "    self.forEach { counter[$0, default: 0] += 1 }\n",
        "    let max_frequency = counter.max(by: { a, b in a.value < b.value })?.value\n",
        "    if let max = max_frequency {\n",
        "      let mode = counter.filter({ $0.value == max }).keys\n",
        "      return Vector(mode)\n",
        "    } else {\n",
        "      return []\n",
        "    }\n",
        "  }\n",
        "}"
      ],
      "execution_count": 0,
      "outputs": []
    },
    {
      "cell_type": "code",
      "metadata": {
        "id": "zLobStWedckH",
        "colab_type": "code",
        "outputId": "547bc716-e1d2-4323-ecbd-8e8e4e831ce1",
        "colab": {
          "base_uri": "https://localhost:8080/",
          "height": 35
        }
      },
      "source": [
        "median_array.median()"
      ],
      "execution_count": 14,
      "outputs": [
        {
          "output_type": "execute_result",
          "data": {
            "text/plain": [
              "4.0\n"
            ]
          },
          "metadata": {
            "tags": []
          },
          "execution_count": 14
        }
      ]
    },
    {
      "cell_type": "code",
      "metadata": {
        "id": "NxfpGBQIxXDk",
        "colab_type": "code",
        "outputId": "0a221e4d-c346-4c76-a033-1ae4317997e5",
        "colab": {
          "base_uri": "https://localhost:8080/",
          "height": 35
        }
      },
      "source": [
        "median_array.quantile(0.2)"
      ],
      "execution_count": 15,
      "outputs": [
        {
          "output_type": "execute_result",
          "data": {
            "text/plain": [
              "2.0\n"
            ]
          },
          "metadata": {
            "tags": []
          },
          "execution_count": 15
        }
      ]
    },
    {
      "cell_type": "code",
      "metadata": {
        "id": "H2a3jhx2MQ4H",
        "colab_type": "code",
        "colab": {}
      },
      "source": [
        "var median_array: Vector = [ 2, 4, 6, 1, 7, 9, 4, 2 ]"
      ],
      "execution_count": 0,
      "outputs": []
    },
    {
      "cell_type": "code",
      "metadata": {
        "id": "E4dmFHPFMgSD",
        "colab_type": "code",
        "outputId": "5c08b7c5-da99-49fb-a0aa-ce3ffa6b6bc3",
        "colab": {
          "base_uri": "https://localhost:8080/",
          "height": 69
        }
      },
      "source": [
        "median_array.mode()"
      ],
      "execution_count": 17,
      "outputs": [
        {
          "output_type": "execute_result",
          "data": {
            "text/plain": [
              "▿ 2 elements\n",
              "  - 0 : 2.0\n",
              "  - 1 : 4.0\n"
            ]
          },
          "metadata": {
            "tags": []
          },
          "execution_count": 17
        }
      ]
    },
    {
      "cell_type": "code",
      "metadata": {
        "id": "0xdy5gbxVPnJ",
        "colab_type": "code",
        "colab": {}
      },
      "source": [
        "extension Vector {\n",
        "  func data_range() -> Float {\n",
        "    return (self.max() ?? 0) - (self.min() ?? 0)\n",
        "  }\n",
        "\n",
        "  func mean_distance() -> Vector {\n",
        "    let mean = self.mean()\n",
        "    return self.map { $0 - mean }\n",
        "  }\n",
        "\n",
        "  func squared() -> Vector {\n",
        "    return self.map({ $0 * $0 })\n",
        "  }\n",
        "\n",
        "  func variance() -> Float {\n",
        "    let distance = self.mean_distance()\n",
        "    let squared = distance.squared()\n",
        "    return squared.sum() / Float(squared.count - 1)\n",
        "  }\n",
        "\n",
        "  func std_dev() -> Float {\n",
        "    return self.variance().squareRoot()\n",
        "  }\n",
        "\n",
        "  func interquantile_range() -> Float {\n",
        "    return self.quantile(0.75) - self.quantile(0.25)\n",
        "  }\n",
        "}"
      ],
      "execution_count": 0,
      "outputs": []
    },
    {
      "cell_type": "code",
      "metadata": {
        "id": "IqYIfrHpMHfA",
        "colab_type": "code",
        "outputId": "b7bf63f3-e70b-45e4-9d97-b166170478b9",
        "colab": {
          "base_uri": "https://localhost:8080/",
          "height": 35
        }
      },
      "source": [
        "median_array.data_range()"
      ],
      "execution_count": 19,
      "outputs": [
        {
          "output_type": "execute_result",
          "data": {
            "text/plain": [
              "8.0\n"
            ]
          },
          "metadata": {
            "tags": []
          },
          "execution_count": 19
        }
      ]
    },
    {
      "cell_type": "code",
      "metadata": {
        "id": "CSOH8a0NUjWX",
        "colab_type": "code",
        "outputId": "f1c5ceee-2a1b-48ca-ea4c-954e39925e7a",
        "colab": {
          "base_uri": "https://localhost:8080/",
          "height": 173
        }
      },
      "source": [
        "median_array.mean_distance()"
      ],
      "execution_count": 20,
      "outputs": [
        {
          "output_type": "execute_result",
          "data": {
            "text/plain": [
              "▿ 8 elements\n",
              "  - 0 : -2.375\n",
              "  - 1 : -0.375\n",
              "  - 2 : 1.625\n",
              "  - 3 : -3.375\n",
              "  - 4 : 2.625\n",
              "  - 5 : 4.625\n",
              "  - 6 : -0.375\n",
              "  - 7 : -2.375\n"
            ]
          },
          "metadata": {
            "tags": []
          },
          "execution_count": 20
        }
      ]
    },
    {
      "cell_type": "code",
      "metadata": {
        "id": "9TzNbZPoVmmO",
        "colab_type": "code",
        "outputId": "9da92244-2723-4313-f3da-34ab06ce266f",
        "colab": {
          "base_uri": "https://localhost:8080/",
          "height": 35
        }
      },
      "source": [
        "median_array.variance()"
      ],
      "execution_count": 21,
      "outputs": [
        {
          "output_type": "execute_result",
          "data": {
            "text/plain": [
              "7.696429\n"
            ]
          },
          "metadata": {
            "tags": []
          },
          "execution_count": 21
        }
      ]
    },
    {
      "cell_type": "code",
      "metadata": {
        "id": "p7zo4cieXTAk",
        "colab_type": "code",
        "outputId": "9e4c23f7-3692-4aae-b8c5-12f51f14e411",
        "colab": {
          "base_uri": "https://localhost:8080/",
          "height": 35
        }
      },
      "source": [
        "median_array.std_dev()"
      ],
      "execution_count": 22,
      "outputs": [
        {
          "output_type": "execute_result",
          "data": {
            "text/plain": [
              "2.7742438\n"
            ]
          },
          "metadata": {
            "tags": []
          },
          "execution_count": 22
        }
      ]
    },
    {
      "cell_type": "code",
      "metadata": {
        "id": "8FVgiZr6ZfaS",
        "colab_type": "code",
        "outputId": "8ee841c0-fbd4-4d12-ea6f-1896932f2cc9",
        "colab": {
          "base_uri": "https://localhost:8080/",
          "height": 35
        }
      },
      "source": [
        "median_array.interquantile_range()"
      ],
      "execution_count": 23,
      "outputs": [
        {
          "output_type": "execute_result",
          "data": {
            "text/plain": [
              "5.0\n"
            ]
          },
          "metadata": {
            "tags": []
          },
          "execution_count": 23
        }
      ]
    },
    {
      "cell_type": "code",
      "metadata": {
        "id": "vF3U1zcGarmF",
        "colab_type": "code",
        "colab": {}
      },
      "source": [
        "func covariance(_ w: Vector, _ v: Vector) -> Float {\n",
        "  assert(w.count == v.count, \"Vector lengths do not match\")\n",
        "  return dot(w.mean_distance(), v.mean_distance()) / Float(w.count - 1)\n",
        "}"
      ],
      "execution_count": 0,
      "outputs": []
    },
    {
      "cell_type": "code",
      "metadata": {
        "id": "C-z1zGXgdnTa",
        "colab_type": "code",
        "colab": {}
      },
      "source": [
        "let x: Vector = [1, 2, 3, 4, 5]\n",
        "let y: Vector = [6, 7, 8, 9, 0]"
      ],
      "execution_count": 0,
      "outputs": []
    },
    {
      "cell_type": "code",
      "metadata": {
        "id": "DTO_FCGaevgf",
        "colab_type": "code",
        "outputId": "6148ac18-a123-42f0-bcfe-ecfe513c9bc4",
        "colab": {
          "base_uri": "https://localhost:8080/",
          "height": 35
        }
      },
      "source": [
        "covariance(y, x)"
      ],
      "execution_count": 26,
      "outputs": [
        {
          "output_type": "execute_result",
          "data": {
            "text/plain": [
              "-2.5\n"
            ]
          },
          "metadata": {
            "tags": []
          },
          "execution_count": 26
        }
      ]
    },
    {
      "cell_type": "code",
      "metadata": {
        "id": "8BQfi69oe5_d",
        "colab_type": "code",
        "colab": {}
      },
      "source": [
        "func correlation(_ w: Vector, _ v: Vector) -> Float {\n",
        "  assert(w.count == v.count, \"Vector lengths do not match\")\n",
        "  let covar = covariance(w, v)\n",
        "  let std_w = w.std_dev()\n",
        "  let std_v = v.std_dev()\n",
        "\n",
        "  return covar / (std_w * std_v)\n",
        "}"
      ],
      "execution_count": 0,
      "outputs": []
    },
    {
      "cell_type": "code",
      "metadata": {
        "id": "ECD7tEuif-8q",
        "colab_type": "code",
        "outputId": "75c0bb5a-3c5a-432b-aad7-2d6a0a6ba680",
        "colab": {
          "base_uri": "https://localhost:8080/",
          "height": 35
        }
      },
      "source": [
        "correlation(y, x)"
      ],
      "execution_count": 28,
      "outputs": [
        {
          "output_type": "execute_result",
          "data": {
            "text/plain": [
              "-0.4472136\n"
            ]
          },
          "metadata": {
            "tags": []
          },
          "execution_count": 28
        }
      ]
    }
  ]
}