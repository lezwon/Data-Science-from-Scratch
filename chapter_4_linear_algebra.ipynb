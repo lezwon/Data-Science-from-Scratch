{
  "nbformat": 4,
  "nbformat_minor": 0,
  "metadata": {
    "colab": {
      "name": "chapter_4_linear_algebra.ipynb",
      "provenance": [],
      "collapsed_sections": [],
      "include_colab_link": true
    },
    "kernelspec": {
      "name": "swift",
      "display_name": "Swift"
    }
  },
  "cells": [
    {
      "cell_type": "markdown",
      "metadata": {
        "id": "view-in-github",
        "colab_type": "text"
      },
      "source": [
        "<a href=\"https://colab.research.google.com/github/lezwon/Data-Science-from-Scratch/blob/master/chapter_4_linear_algebra.ipynb\" target=\"_parent\"><img src=\"https://colab.research.google.com/assets/colab-badge.svg\" alt=\"Open In Colab\"/></a>"
      ]
    },
    {
      "cell_type": "code",
      "metadata": {
        "id": "kZRlD4utdPuX",
        "colab_type": "code",
        "colab": {}
      },
      "source": [
        "typealias Vector = Array<Float>"
      ],
      "execution_count": 0,
      "outputs": []
    },
    {
      "cell_type": "code",
      "metadata": {
        "id": "iqEhLej-IDdq",
        "colab_type": "code",
        "colab": {}
      },
      "source": [
        "let height:Vector = [ 1, 2, 3]"
      ],
      "execution_count": 0,
      "outputs": []
    },
    {
      "cell_type": "code",
      "metadata": {
        "id": "CE_Dh13JIN1h",
        "colab_type": "code",
        "colab": {}
      },
      "source": [
        "let width:Vector = [ 4, 5, 6]"
      ],
      "execution_count": 0,
      "outputs": []
    },
    {
      "cell_type": "code",
      "metadata": {
        "id": "_NkbbfgDIPgw",
        "colab_type": "code",
        "colab": {}
      },
      "source": [
        "func add(_ v: Vector, _ w: Vector) -> Vector {\n",
        "  assert(v.count == w.count, \"Vector lengths do not match.\")\n",
        "  return zip(v, w).map({ $0 + $1 })\n",
        "}"
      ],
      "execution_count": 0,
      "outputs": []
    },
    {
      "cell_type": "code",
      "metadata": {
        "id": "41JN0IyJIhh_",
        "colab_type": "code",
        "colab": {}
      },
      "source": [
        "assert(add(height, width) == [5.0, 7.0, 9.0])"
      ],
      "execution_count": 0,
      "outputs": []
    },
    {
      "cell_type": "code",
      "metadata": {
        "id": "N9CtJ2qMNEC6",
        "colab_type": "code",
        "colab": {}
      },
      "source": [
        "func subtract(_ v: Vector, _ w: Vector) -> Vector {\n",
        "  assert(v.count == w.count, \"Vector lengths do not match.\")\n",
        "  return zip(v, w).map({ $0 - $1 })\n",
        "}"
      ],
      "execution_count": 0,
      "outputs": []
    },
    {
      "cell_type": "code",
      "metadata": {
        "id": "OlhJSMh2Oiv_",
        "colab_type": "code",
        "colab": {}
      },
      "source": [
        "assert(subtract(width, height) == [3.0, 3.0, 3.0])"
      ],
      "execution_count": 0,
      "outputs": []
    },
    {
      "cell_type": "code",
      "metadata": {
        "id": "wqIfWV9gOp8P",
        "colab_type": "code",
        "colab": {}
      },
      "source": [
        "func sum_of_vectors(_ vectors: Array<Vector>) -> Vector {\n",
        "  assert(Set(vectors.map({ $0.count })).count == 1, \"Vector lengths do not match.\")\n",
        "\n",
        "  return vectors.reduce([Float](repeating: 0, count: vectors.first?.count ?? 0)) { add($0, $1) }\n",
        "}"
      ],
      "execution_count": 0,
      "outputs": []
    },
    {
      "cell_type": "code",
      "metadata": {
        "id": "hJawbszYXE69",
        "colab_type": "code",
        "outputId": "a1d42989-9d83-41f3-db6a-a058bf0db7b6",
        "colab": {
          "base_uri": "https://localhost:8080/",
          "height": 86
        }
      },
      "source": [
        "sum_of_vectors([[1,2,3], [4,5,6], [7,8,9]])"
      ],
      "execution_count": 0,
      "outputs": [
        {
          "output_type": "execute_result",
          "data": {
            "text/plain": [
              "▿ 3 elements\n",
              "  - 0 : 12.0\n",
              "  - 1 : 15.0\n",
              "  - 2 : 18.0\n"
            ]
          },
          "metadata": {
            "tags": []
          },
          "execution_count": 9
        }
      ]
    },
    {
      "cell_type": "code",
      "metadata": {
        "id": "JkPnMjIHXljL",
        "colab_type": "code",
        "colab": {}
      },
      "source": [
        "func scalar_multiply(_ c: Float, _ v: Vector) -> Vector {\n",
        "  return v.map({ $0 * c })\n",
        "}"
      ],
      "execution_count": 0,
      "outputs": []
    },
    {
      "cell_type": "code",
      "metadata": {
        "id": "j81_U2NxYOMA",
        "colab_type": "code",
        "outputId": "c82c8b45-66f5-4e37-a5e6-7a4f73fd3ed0",
        "colab": {
          "base_uri": "https://localhost:8080/",
          "height": 86
        }
      },
      "source": [
        "scalar_multiply(2, width)"
      ],
      "execution_count": 0,
      "outputs": [
        {
          "output_type": "execute_result",
          "data": {
            "text/plain": [
              "▿ 3 elements\n",
              "  - 0 : 8.0\n",
              "  - 1 : 10.0\n",
              "  - 2 : 12.0\n"
            ]
          },
          "metadata": {
            "tags": []
          },
          "execution_count": 11
        }
      ]
    },
    {
      "cell_type": "code",
      "metadata": {
        "id": "L_-ZRT02YSOB",
        "colab_type": "code",
        "colab": {}
      },
      "source": [
        "func vector_mean(_ v: Vector) -> Float {\n",
        "  return v.reduce(0, +) / Float(v.count)\n",
        "}"
      ],
      "execution_count": 0,
      "outputs": []
    },
    {
      "cell_type": "code",
      "metadata": {
        "id": "4hIyZxKkYsGo",
        "colab_type": "code",
        "outputId": "fafe0d4a-6593-49f1-a7fd-607c231f81d3",
        "colab": {
          "base_uri": "https://localhost:8080/",
          "height": 35
        }
      },
      "source": [
        "vector_mean(width)"
      ],
      "execution_count": 0,
      "outputs": [
        {
          "output_type": "execute_result",
          "data": {
            "text/plain": [
              "5.0\n"
            ]
          },
          "metadata": {
            "tags": []
          },
          "execution_count": 13
        }
      ]
    },
    {
      "cell_type": "code",
      "metadata": {
        "id": "T-YvBM4pY7sD",
        "colab_type": "code",
        "colab": {}
      },
      "source": [
        "func dot(_ v: Vector, _ w: Vector) -> Float {\n",
        "  assert(v.count == w.count, \"Vector lengths do not match.\")\n",
        "  return zip(v, w).map({ $0 * $1 }).reduce(0, +)\n",
        "}"
      ],
      "execution_count": 0,
      "outputs": []
    },
    {
      "cell_type": "code",
      "metadata": {
        "id": "eNCKk-_haJf3",
        "colab_type": "code",
        "outputId": "eae67962-b49f-4014-c8cb-fab3200653ea",
        "colab": {
          "base_uri": "https://localhost:8080/",
          "height": 35
        }
      },
      "source": [
        "dot(width, height)"
      ],
      "execution_count": 0,
      "outputs": [
        {
          "output_type": "execute_result",
          "data": {
            "text/plain": [
              "32.0\n"
            ]
          },
          "metadata": {
            "tags": []
          },
          "execution_count": 15
        }
      ]
    },
    {
      "cell_type": "code",
      "metadata": {
        "id": "FFyILr7haM5Z",
        "colab_type": "code",
        "colab": {}
      },
      "source": [
        "func sum_of_squares(_ v: Vector) -> Float {\n",
        "  return dot(v, v)\n",
        "}"
      ],
      "execution_count": 0,
      "outputs": []
    },
    {
      "cell_type": "code",
      "metadata": {
        "id": "TBUJbWggagvM",
        "colab_type": "code",
        "outputId": "4be7b8d9-4101-4362-91b8-0e102860d6b3",
        "colab": {
          "base_uri": "https://localhost:8080/",
          "height": 35
        }
      },
      "source": [
        "sum_of_squares(width)"
      ],
      "execution_count": 0,
      "outputs": [
        {
          "output_type": "execute_result",
          "data": {
            "text/plain": [
              "77.0\n"
            ]
          },
          "metadata": {
            "tags": []
          },
          "execution_count": 17
        }
      ]
    },
    {
      "cell_type": "code",
      "metadata": {
        "id": "N0dajBsDairp",
        "colab_type": "code",
        "colab": {}
      },
      "source": [
        "func magnitude(_ v: Vector) -> Float {\n",
        "  return sum_of_squares(v).squareRoot()\n",
        "}"
      ],
      "execution_count": 0,
      "outputs": []
    },
    {
      "cell_type": "code",
      "metadata": {
        "id": "Sd06i1H5sgJL",
        "colab_type": "code",
        "outputId": "c69e93e7-605a-461f-e007-e30f60d4f8c9",
        "colab": {
          "base_uri": "https://localhost:8080/",
          "height": 35
        }
      },
      "source": [
        "magnitude(width)"
      ],
      "execution_count": 0,
      "outputs": [
        {
          "output_type": "execute_result",
          "data": {
            "text/plain": [
              "8.774964\n"
            ]
          },
          "metadata": {
            "tags": []
          },
          "execution_count": 19
        }
      ]
    },
    {
      "cell_type": "code",
      "metadata": {
        "id": "Md5yYs_asvDl",
        "colab_type": "code",
        "colab": {}
      },
      "source": [
        "func squared_distance(_ v: Vector, _ w: Vector) -> Float {\n",
        "  return sum_of_squares(subtract(v, w))\n",
        "}"
      ],
      "execution_count": 0,
      "outputs": []
    },
    {
      "cell_type": "code",
      "metadata": {
        "id": "lyNag0VCuwgD",
        "colab_type": "code",
        "colab": {}
      },
      "source": [
        "func distance(_ v: Vector, _ w: Vector) -> Float {\n",
        "  return squared_distance(v, w).squareRoot()\n",
        "}"
      ],
      "execution_count": 0,
      "outputs": []
    },
    {
      "cell_type": "code",
      "metadata": {
        "id": "Y-kiyQouu7JY",
        "colab_type": "code",
        "outputId": "855a2a1e-d6c1-413f-b8eb-79064168aaa7",
        "colab": {
          "base_uri": "https://localhost:8080/",
          "height": 35
        }
      },
      "source": [
        "distance(width, height)"
      ],
      "execution_count": 0,
      "outputs": [
        {
          "output_type": "execute_result",
          "data": {
            "text/plain": [
              "5.196152\n"
            ]
          },
          "metadata": {
            "tags": []
          },
          "execution_count": 22
        }
      ]
    },
    {
      "cell_type": "code",
      "metadata": {
        "id": "aybqCD_Vu9-H",
        "colab_type": "code",
        "colab": {}
      },
      "source": [
        "typealias Matrix = Array<Vector>"
      ],
      "execution_count": 0,
      "outputs": []
    },
    {
      "cell_type": "code",
      "metadata": {
        "id": "C0UpZvHl_iUS",
        "colab_type": "code",
        "colab": {}
      },
      "source": [
        "func shape(_ m: Matrix) -> (Int, Int){\n",
        "  return (m.count, m.first?.count ?? 0)\n",
        "}"
      ],
      "execution_count": 0,
      "outputs": []
    },
    {
      "cell_type": "code",
      "metadata": {
        "id": "4ntn31ZTC7b9",
        "colab_type": "code",
        "colab": {}
      },
      "source": [
        "let a:Matrix = [[1, 2, 3], [4, 5, 6], [7, 8, 9]]"
      ],
      "execution_count": 0,
      "outputs": []
    },
    {
      "cell_type": "code",
      "metadata": {
        "id": "Rllag5ZFAWKZ",
        "colab_type": "code",
        "outputId": "6e26ef20-c5e7-4a8d-f898-5472aa357643",
        "colab": {
          "base_uri": "https://localhost:8080/",
          "height": 69
        }
      },
      "source": [
        "shape(a)"
      ],
      "execution_count": 0,
      "outputs": [
        {
          "output_type": "execute_result",
          "data": {
            "text/plain": [
              "▿ 2 elements\n",
              "  - .0 : 2\n",
              "  - .1 : 3\n"
            ]
          },
          "metadata": {
            "tags": []
          },
          "execution_count": 44
        }
      ]
    },
    {
      "cell_type": "code",
      "metadata": {
        "id": "C8yxFwhtDFda",
        "colab_type": "code",
        "colab": {}
      },
      "source": [
        "func get_row(_ m: Matrix, _ i: Int) -> Vector {\n",
        "  return m[i]\n",
        "}"
      ],
      "execution_count": 0,
      "outputs": []
    },
    {
      "cell_type": "code",
      "metadata": {
        "id": "kU6IgjslVG33",
        "colab_type": "code",
        "colab": {}
      },
      "source": [
        "func get_column(_ m: Matrix, _ j: Int) -> Vector {\n",
        "  return m.map({ $0[j] })\n",
        "}"
      ],
      "execution_count": 0,
      "outputs": []
    },
    {
      "cell_type": "code",
      "metadata": {
        "id": "L0QFJXOCVPLB",
        "colab_type": "code",
        "outputId": "695c3366-ffc3-4c3f-ea50-d1011ece676a",
        "colab": {
          "base_uri": "https://localhost:8080/",
          "height": 86
        }
      },
      "source": [
        "get_row(a, 1)"
      ],
      "execution_count": 0,
      "outputs": [
        {
          "output_type": "execute_result",
          "data": {
            "text/plain": [
              "▿ 3 elements\n",
              "  - 0 : 4.0\n",
              "  - 1 : 5.0\n",
              "  - 2 : 6.0\n"
            ]
          },
          "metadata": {
            "tags": []
          },
          "execution_count": 48
        }
      ]
    },
    {
      "cell_type": "code",
      "metadata": {
        "id": "h4NdmQcXVULR",
        "colab_type": "code",
        "outputId": "d71a0b62-a05c-431a-e01c-2c163dfb0d50",
        "colab": {
          "base_uri": "https://localhost:8080/",
          "height": 86
        }
      },
      "source": [
        "get_column(a, 2)"
      ],
      "execution_count": 0,
      "outputs": [
        {
          "output_type": "execute_result",
          "data": {
            "text/plain": [
              "▿ 3 elements\n",
              "  - 0 : 3.0\n",
              "  - 1 : 6.0\n",
              "  - 2 : 9.0\n"
            ]
          },
          "metadata": {
            "tags": []
          },
          "execution_count": 52
        }
      ]
    },
    {
      "cell_type": "code",
      "metadata": {
        "id": "VAApweuWVb2w",
        "colab_type": "code",
        "colab": {}
      },
      "source": [
        "func create_matrix(_ i: Int,_ j: Int,_ entry_fn: (Int, Int) -> Float) -> Matrix{\n",
        "  return (0..<i).map{ (a) in\n",
        "    (0..<j).map{ (b) in\n",
        "      entry_fn(a, b)\n",
        "    }\n",
        "  }\n",
        "}"
      ],
      "execution_count": 0,
      "outputs": []
    },
    {
      "cell_type": "code",
      "metadata": {
        "id": "ycC6Igg3YLrn",
        "colab_type": "code",
        "outputId": "d9ff6898-5cd9-4305-cb56-cbf8237a29cf",
        "colab": {
          "base_uri": "https://localhost:8080/",
          "height": 242
        }
      },
      "source": [
        "create_matrix(3, 3, { i, j in\n",
        " return Float(i == j ? 1 : 0)\n",
        "})"
      ],
      "execution_count": 0,
      "outputs": [
        {
          "output_type": "execute_result",
          "data": {
            "text/plain": [
              "▿ 3 elements\n",
              "  ▿ 0 : 3 elements\n",
              "    - 0 : 1.0\n",
              "    - 1 : 0.0\n",
              "    - 2 : 0.0\n",
              "  ▿ 1 : 3 elements\n",
              "    - 0 : 0.0\n",
              "    - 1 : 1.0\n",
              "    - 2 : 0.0\n",
              "  ▿ 2 : 3 elements\n",
              "    - 0 : 0.0\n",
              "    - 1 : 0.0\n",
              "    - 2 : 1.0\n"
            ]
          },
          "metadata": {
            "tags": []
          },
          "execution_count": 95
        }
      ]
    },
    {
      "cell_type": "code",
      "metadata": {
        "id": "Fe5HPeSTp8yq",
        "colab_type": "code",
        "colab": {}
      },
      "source": [
        ""
      ],
      "execution_count": 0,
      "outputs": []
    }
  ]
}